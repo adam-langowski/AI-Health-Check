{
 "cells": [
  {
   "cell_type": "markdown",
   "metadata": {},
   "source": [
    "## Segmenting Liver "
   ]
  },
  {
   "cell_type": "markdown",
   "metadata": {},
   "source": [
    "#### *Table of Contents*\n",
    "1. [NIfTI files](#chapter1)\n",
    "2. [Images preprocessing](#chapter2)\n",
    "2. [Model architecture](#chapter3)\n",
    "3. [Training](#chapter4)\n",
    "4. [Testing and metrics](#chapter5)"
   ]
  },
  {
   "cell_type": "markdown",
   "metadata": {},
   "source": [
    "- libraries:"
   ]
  },
  {
   "cell_type": "code",
   "execution_count": 12,
   "metadata": {},
   "outputs": [],
   "source": [
    "import os\n",
    "import shutil\n",
    "from glob import glob\n",
    "import nibabel as nib\n",
    "import pydicom\n",
    "import numpy as np\n",
    "import dicom2nifti"
   ]
  },
  {
   "cell_type": "markdown",
   "metadata": {},
   "source": [
    "- Converting NIfTI files to DICOM"
   ]
  },
  {
   "cell_type": "code",
   "execution_count": 6,
   "metadata": {},
   "outputs": [
    {
     "name": "stderr",
     "output_type": "stream",
     "text": [
      "c:\\Users\\adaml\\anaconda3\\Lib\\site-packages\\pydicom\\dataset.py:2710: UserWarning: Camel case attribute 'ImageInstanceUID' used which is not in the element keyword data dictionary\n",
      "  warn_and_log(msg)\n"
     ]
    }
   ],
   "source": [
    "def nifti_to_dicom(nifti_path, output_path):\n",
    "    \"\"\"Converts a NIfTI file to a series of DICOM files in a separate folder.\n",
    "\n",
    "    Args:\n",
    "        nifti_path (str): Path to the NIfTI file.\n",
    "        output_path (str): Output directory for DICOM files.\n",
    "    \"\"\"\n",
    "\n",
    "    # Extract patient ID from nifti file name\n",
    "    patient_id = os.path.basename(nifti_path).split('.')[0]\n",
    "    patient_output_path = os.path.join(output_path, patient_id)\n",
    "\n",
    "    # Create patient output directory\n",
    "    os.makedirs(patient_output_path, exist_ok=True)\n",
    "\n",
    "    # Load NIfTI data\n",
    "    img = nib.load(nifti_path)\n",
    "    data = img.get_fdata()\n",
    "\n",
    "    # Basic DICOM metadata (replace with actual values)\n",
    "    ds = pydicom.Dataset()\n",
    "    ds.PatientID = patient_id\n",
    "    ds.StudyInstanceUID = pydicom.uid.generate_uid()\n",
    "    ds.SeriesInstanceUID = pydicom.uid.generate_uid()\n",
    "    ds.Modality = 'MR'  # Replace with appropriate modality\n",
    "    ds.PixelSpacing = [0.5, 0.5]  # Replace with actual pixel spacing\n",
    "    ds.SliceThickness = 3.0  # Replace with actual slice thickness\n",
    "\n",
    "    # Set is_little_endian and is_implicit_VR\n",
    "    ds.is_little_endian = True  # Assuming little-endian byte order (adjust if needed)\n",
    "    ds.is_implicit_VR = False  # Assuming explicit VR (adjust if needed)\n",
    "\n",
    "    # Iterate over slices\n",
    "    for i in range(data.shape[2]):\n",
    "        slice_data = data[:, :, i]\n",
    "\n",
    "        # Create DICOM dataset for the slice\n",
    "        ds.ImageInstanceUID = pydicom.uid.generate_uid()\n",
    "        ds.InstanceNumber = i + 1\n",
    "        ds.SliceLocation = -(i * ds.SliceThickness)  # Adjust based on slice orientation\n",
    "\n",
    "        # Convert image data to appropriate format (e.g., int16)\n",
    "        slice_data = slice_data.astype(np.int16)\n",
    "\n",
    "        # Set pixel data\n",
    "        ds.PixelData = slice_data.tobytes()\n",
    "        ds.BitsAllocated = 16\n",
    "        ds.SamplesPerPixel = 1\n",
    "        ds.HighBit = 15\n",
    "        ds.PixelRepresentation = 0\n",
    "\n",
    "        # Write DICOM file\n",
    "        output_file = os.path.join(patient_output_path, f'image_{i+1}.dcm')\n",
    "        pydicom.filewriter.dcmwrite(output_file, ds)\n",
    "\n",
    "# IMAGES TRANSFORMATION\n",
    "nifti_folder = '../data/Task03_Liver/Task03_Liver/images'\n",
    "\n",
    "output_folder = '../data/Task03_Liver/Task03_Liver/dicom_data/dicom_images'\n",
    "\n",
    "# Iterate over NIfTI files\n",
    "for nifti_file in glob(os.path.join(nifti_folder, '*.nii.gz')):\n",
    "    nifti_to_dicom(nifti_file, output_folder)"
   ]
  },
  {
   "cell_type": "code",
   "execution_count": 7,
   "metadata": {},
   "outputs": [
    {
     "name": "stderr",
     "output_type": "stream",
     "text": [
      "c:\\Users\\adaml\\anaconda3\\Lib\\site-packages\\pydicom\\dataset.py:2710: UserWarning: Camel case attribute 'ImageInstanceUID' used which is not in the element keyword data dictionary\n",
      "  warn_and_log(msg)\n"
     ]
    }
   ],
   "source": [
    "# LABELS TRANSFORMATION\n",
    "nifti_folder_labels = '../data/Task03_Liver/Task03_Liver/labels'\n",
    "\n",
    "output_folder_labels = '../data/Task03_Liver/Task03_Liver/dicom_data/dicom_labels'\n",
    "\n",
    "# Iterate over NIfTI files\n",
    "for nifti_file in glob(os.path.join(nifti_folder_labels, '*.nii.gz')):\n",
    "    nifti_to_dicom(nifti_file, output_folder_labels)"
   ]
  },
  {
   "cell_type": "code",
   "execution_count": 8,
   "metadata": {},
   "outputs": [],
   "source": [
    "input_labels = \"../data/Task03_Liver/Task03_Liver/dicom_data/dicom_labels\"\n",
    "output_groups_labels = \"../data/Task03_Liver/Task03_Liver/dicom_groups/dicom_group_label\""
   ]
  },
  {
   "cell_type": "code",
   "execution_count": 9,
   "metadata": {},
   "outputs": [],
   "source": [
    "input_images = \"../data/Task03_Liver/Task03_Liver/dicom_data/dicom_images\"\n",
    "output_groups_images = \"../data/Task03_Liver/Task03_Liver/dicom_groups/dicom_group_image\""
   ]
  },
  {
   "cell_type": "markdown",
   "metadata": {},
   "source": [
    "- Creating groups of 64 slices:\n",
    "\n",
    " (becasue number of slices can be slightly different for every person - we need the same number of slices as input)"
   ]
  },
  {
   "cell_type": "code",
   "execution_count": 10,
   "metadata": {},
   "outputs": [],
   "source": [
    "INT_SLICES_NUM = 64\n",
    "\n",
    "# LABELS\n",
    "\n",
    "for person in sorted(glob(input_labels + '/*')):\n",
    "    person_name = os.path.basename(os.path.normpath(person))\n",
    "    num_folders = int(len(sorted(glob(person + '/*'))) / INT_SLICES_NUM)   \n",
    "\n",
    "    # GROUPS\n",
    "    for i in range (num_folders):\n",
    "        output_path = os.path.join(output_groups_labels, person_name + '_' + str(i))\n",
    "        os.mkdir(output_path)\n",
    "\n",
    "        # SLICES\n",
    "        for j, file in enumerate(sorted(glob(person + '/*'))):\n",
    "            if j > INT_SLICES_NUM - 1:\n",
    "                break\n",
    "            shutil.move(file, output_path)"
   ]
  },
  {
   "cell_type": "code",
   "execution_count": 11,
   "metadata": {},
   "outputs": [],
   "source": [
    "# IMAGES\n",
    "\n",
    "for person in sorted(glob(input_images + '/*')):\n",
    "    person_name = os.path.basename(os.path.normpath(person))\n",
    "    num_folders = int(len(sorted(glob(person + '/*'))) / INT_SLICES_NUM)   \n",
    "\n",
    "    # GROUPS\n",
    "    for i in range (num_folders):\n",
    "        output_path = os.path.join(output_groups_images, person_name + '_' + str(i))\n",
    "        os.mkdir(output_path)\n",
    "\n",
    "        # SLICES\n",
    "        for j, file in enumerate(sorted(glob(person + '/*'))):\n",
    "            if j > INT_SLICES_NUM - 1:\n",
    "                break\n",
    "            shutil.move(file, output_path)"
   ]
  },
  {
   "cell_type": "markdown",
   "metadata": {},
   "source": [
    "- convertion from DICOM to NIfTI"
   ]
  },
  {
   "cell_type": "code",
   "execution_count": 22,
   "metadata": {},
   "outputs": [],
   "source": [
    "# groups of 64 slices \n",
    "dicom_groups_labels = \"../data/Task03_Liver/Task03_Liver/dicom_groups/dicom_group_label/*\"\n",
    "dicom_groups_images = \"../data/Task03_Liver/Task03_Liver/dicom_groups/dicom_group_image/*\""
   ]
  },
  {
   "cell_type": "code",
   "execution_count": 23,
   "metadata": {},
   "outputs": [],
   "source": [
    "images_list = sorted(glob(dicom_groups_images))\n",
    "labels_list = sorted(glob(dicom_groups_labels))"
   ]
  },
  {
   "cell_type": "code",
   "execution_count": 24,
   "metadata": {},
   "outputs": [],
   "source": [
    "# final NIfTI\n",
    "nifti_images = \"../data/Task03_Liver/Task03_Liver/nifti_data/nifti_images\"\n",
    "nifti_labels = \"../data/Task03_Liver/Task03_Liver/nifti_data/nifti_labels\""
   ]
  },
  {
   "cell_type": "code",
   "execution_count": 28,
   "metadata": {},
   "outputs": [],
   "source": [
    "# Check if the directory contains valid DICOM files\n",
    "def is_dicom_directory_valid(directory):\n",
    "    dicom_files = [f for f in os.listdir(directory) if f.endswith('.dcm')]\n",
    "    if not dicom_files:\n",
    "        return False\n",
    "\n",
    "    for dicom_file in dicom_files:\n",
    "        try:\n",
    "            pydicom.dcmread(os.path.join(directory, dicom_file))\n",
    "        except:\n",
    "            return False\n",
    "    return True"
   ]
  },
  {
   "cell_type": "code",
   "execution_count": 27,
   "metadata": {},
   "outputs": [
    {
     "name": "stdout",
     "output_type": "stream",
     "text": [
      "liver_0_0\n",
      "../data/Task03_Liver/Task03_Liver/dicom_groups/dicom_group_image\\liver_0_0\n"
     ]
    },
    {
     "ename": "IndexError",
     "evalue": "list index out of range",
     "output_type": "error",
     "traceback": [
      "\u001b[1;31m---------------------------------------------------------------------------\u001b[0m",
      "\u001b[1;31mIndexError\u001b[0m                                Traceback (most recent call last)",
      "Cell \u001b[1;32mIn[27], line 5\u001b[0m\n\u001b[0;32m      3\u001b[0m \u001b[38;5;28mprint\u001b[39m(person_name)\n\u001b[0;32m      4\u001b[0m \u001b[38;5;28mprint\u001b[39m(person)\n\u001b[1;32m----> 5\u001b[0m dicom2nifti\u001b[38;5;241m.\u001b[39mdicom_series_to_nifti(person, os\u001b[38;5;241m.\u001b[39mpath\u001b[38;5;241m.\u001b[39mjoin(nifti_images, person_name \u001b[38;5;241m+\u001b[39m \u001b[38;5;124m\"\u001b[39m\u001b[38;5;124m.nii.gz\u001b[39m\u001b[38;5;124m\"\u001b[39m))\n",
      "File \u001b[1;32mc:\\Users\\adaml\\anaconda3\\Lib\\site-packages\\dicom2nifti\\convert_dicom.py:78\u001b[0m, in \u001b[0;36mdicom_series_to_nifti\u001b[1;34m(original_dicom_directory, output_file, reorient_nifti)\u001b[0m\n\u001b[0;32m     74\u001b[0m     shutil\u001b[38;5;241m.\u001b[39mcopytree(original_dicom_directory, dicom_directory)\n\u001b[0;32m     76\u001b[0m     dicom_input \u001b[38;5;241m=\u001b[39m common\u001b[38;5;241m.\u001b[39mread_dicom_directory(dicom_directory)\n\u001b[1;32m---> 78\u001b[0m     \u001b[38;5;28;01mreturn\u001b[39;00m dicom_array_to_nifti(dicom_input, output_file, reorient_nifti)\n\u001b[0;32m     80\u001b[0m \u001b[38;5;28;01mexcept\u001b[39;00m \u001b[38;5;167;01mAttributeError\u001b[39;00m \u001b[38;5;28;01mas\u001b[39;00m exception:\n\u001b[0;32m     81\u001b[0m     \u001b[38;5;28;01mraise\u001b[39;00m exception\n",
      "File \u001b[1;32mc:\\Users\\adaml\\anaconda3\\Lib\\site-packages\\dicom2nifti\\convert_dicom.py:112\u001b[0m, in \u001b[0;36mdicom_array_to_nifti\u001b[1;34m(dicom_list, output_file, reorient_nifti)\u001b[0m\n\u001b[0;32m     89\u001b[0m \u001b[38;5;250m\u001b[39m\u001b[38;5;124;03m\"\"\" Converts dicom single series (see pydicom) to nifty, mimicking SPM\u001b[39;00m\n\u001b[0;32m     90\u001b[0m \n\u001b[0;32m     91\u001b[0m \u001b[38;5;124;03mExamples: See unit test\u001b[39;00m\n\u001b[1;32m   (...)\u001b[0m\n\u001b[0;32m    109\u001b[0m \u001b[38;5;124;03m:param dicom_list: list with uncompressed dicom objects as read by pydicom\u001b[39;00m\n\u001b[0;32m    110\u001b[0m \u001b[38;5;124;03m\"\"\"\u001b[39;00m\n\u001b[0;32m    111\u001b[0m \u001b[38;5;66;03m# copy files so we can can modify without altering the original\u001b[39;00m\n\u001b[1;32m--> 112\u001b[0m \u001b[38;5;28;01mif\u001b[39;00m \u001b[38;5;129;01mnot\u001b[39;00m are_imaging_dicoms(dicom_list):\n\u001b[0;32m    113\u001b[0m     \u001b[38;5;28;01mraise\u001b[39;00m ConversionValidationError(\u001b[38;5;124m'\u001b[39m\u001b[38;5;124mNON_IMAGING_DICOM_FILES\u001b[39m\u001b[38;5;124m'\u001b[39m)\n\u001b[0;32m    115\u001b[0m vendor \u001b[38;5;241m=\u001b[39m _get_vendor(dicom_list)\n",
      "File \u001b[1;32mc:\\Users\\adaml\\anaconda3\\Lib\\site-packages\\dicom2nifti\\convert_dicom.py:152\u001b[0m, in \u001b[0;36mare_imaging_dicoms\u001b[1;34m(dicom_input)\u001b[0m\n\u001b[0;32m    144\u001b[0m \u001b[38;5;250m\u001b[39m\u001b[38;5;124;03m\"\"\"\u001b[39;00m\n\u001b[0;32m    145\u001b[0m \u001b[38;5;124;03mThis function will check the dicom headers to see which type of series it is\u001b[39;00m\n\u001b[0;32m    146\u001b[0m \u001b[38;5;124;03mPossibilities are fMRI, DTI, Anatomical (if no clear type is found anatomical is used)\u001b[39;00m\n\u001b[0;32m    147\u001b[0m \n\u001b[0;32m    148\u001b[0m \u001b[38;5;124;03m:param dicom_input: directory with dicom files or a list of dicom objects\u001b[39;00m\n\u001b[0;32m    149\u001b[0m \u001b[38;5;124;03m\"\"\"\u001b[39;00m\n\u001b[0;32m    151\u001b[0m \u001b[38;5;66;03m# if it is philips and multiframe dicom then we assume it is ok\u001b[39;00m\n\u001b[1;32m--> 152\u001b[0m \u001b[38;5;28;01mif\u001b[39;00m common\u001b[38;5;241m.\u001b[39mis_multiframe_dicom(dicom_input):\n\u001b[0;32m    153\u001b[0m     \u001b[38;5;28;01mreturn\u001b[39;00m \u001b[38;5;28;01mTrue\u001b[39;00m\n\u001b[0;32m    155\u001b[0m \u001b[38;5;66;03m# for all others if there is image position patient we assume it is ok\u001b[39;00m\n",
      "File \u001b[1;32mc:\\Users\\adaml\\anaconda3\\Lib\\site-packages\\dicom2nifti\\common.py:149\u001b[0m, in \u001b[0;36mis_multiframe_dicom\u001b[1;34m(dicom_input)\u001b[0m\n\u001b[0;32m    141\u001b[0m \u001b[38;5;250m\u001b[39m\u001b[38;5;124;03m\"\"\"\u001b[39;00m\n\u001b[0;32m    142\u001b[0m \u001b[38;5;124;03mUse this function to detect if a dicom series is a siemens 4D dataset\u001b[39;00m\n\u001b[0;32m    143\u001b[0m \u001b[38;5;124;03mNOTE: Only the first slice will be checked so you can only provide an already sorted dicom directory\u001b[39;00m\n\u001b[1;32m   (...)\u001b[0m\n\u001b[0;32m    146\u001b[0m \u001b[38;5;124;03m:param dicom_input: directory with dicom files for 1 scan\u001b[39;00m\n\u001b[0;32m    147\u001b[0m \u001b[38;5;124;03m\"\"\"\u001b[39;00m\n\u001b[0;32m    148\u001b[0m \u001b[38;5;66;03m# read dicom header\u001b[39;00m\n\u001b[1;32m--> 149\u001b[0m header \u001b[38;5;241m=\u001b[39m dicom_input[\u001b[38;5;241m0\u001b[39m]\n\u001b[0;32m    151\u001b[0m \u001b[38;5;28;01mif\u001b[39;00m Tag(\u001b[38;5;241m0x0002\u001b[39m, \u001b[38;5;241m0x0002\u001b[39m) \u001b[38;5;129;01mnot\u001b[39;00m \u001b[38;5;129;01min\u001b[39;00m header\u001b[38;5;241m.\u001b[39mfile_meta:\n\u001b[0;32m    152\u001b[0m     \u001b[38;5;28;01mreturn\u001b[39;00m \u001b[38;5;28;01mFalse\u001b[39;00m\n",
      "\u001b[1;31mIndexError\u001b[0m: list index out of range"
     ]
    }
   ],
   "source": [
    "for person in images_list:\n",
    "    person_name = os.path.basename(os.path.normpath(person))\n",
    "    print(f\"Processing: {person_name}\")\n",
    "    \n",
    "    dicom_list = dicom2nifti.common.read_dicom_directory(person)\n",
    "    print(f\"Loaded {len(dicom_list)} DICOM files from {person}\")\n",
    "\n",
    "\n",
    "    # Check if the directory contains valid DICOM files\n",
    "    if is_dicom_directory_valid(person):\n",
    "        try:\n",
    "            dicom2nifti.dicom_series_to_nifti(person, os.path.join(nifti_images, person_name + \".nii.gz\"))\n",
    "            print(f\"Successfully converted {person_name}\")\n",
    "        except Exception as e:\n",
    "            print(f\"Error processing {person_name}: {str(e)}\")\n",
    "    else:\n",
    "        print(f\"No valid DICOM files found in {person}\")\n"
   ]
  },
  {
   "cell_type": "code",
   "execution_count": null,
   "metadata": {},
   "outputs": [],
   "source": [
    "for person in labels_list:\n",
    "    person_name = os.path.basename(os.path.normpath(person))\n",
    "    dicom2nifti.dicom_series_to_nifti(person, os.path.join(nifti_labels + \"_\" + person_name + \".nii\"))"
   ]
  }
 ],
 "metadata": {
  "kernelspec": {
   "display_name": "base",
   "language": "python",
   "name": "python3"
  },
  "language_info": {
   "codemirror_mode": {
    "name": "ipython",
    "version": 3
   },
   "file_extension": ".py",
   "mimetype": "text/x-python",
   "name": "python",
   "nbconvert_exporter": "python",
   "pygments_lexer": "ipython3",
   "version": "3.11.7"
  }
 },
 "nbformat": 4,
 "nbformat_minor": 2
}
